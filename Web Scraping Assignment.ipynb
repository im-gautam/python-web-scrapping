{
 "cells": [
  {
   "cell_type": "code",
   "execution_count": 2,
   "id": "18b3c377",
   "metadata": {},
   "outputs": [
    {
     "name": "stdout",
     "output_type": "stream",
     "text": [
      "Data has been scraped and saved to flipkart_phone_data.csv\n"
     ]
    }
   ],
   "source": [
    "import requests\n",
    "from bs4 import BeautifulSoup\n",
    "import csv\n",
    "\n",
    "# The URL of the Flipkart search page\n",
    "url = 'https://www.flipkart.com/search?q=phone&otracker=search&otracker1=search&marketplace=FLIPKART&as-show=on&as=off&page=1'\n",
    "\n",
    "# Send an HTTP GET request to the URL\n",
    "response = requests.get(url)\n",
    "\n",
    "# Check if the request was successful\n",
    "if response.status_code == 200:\n",
    "    # Parse the HTML content of the page\n",
    "    soup = BeautifulSoup(response.text, 'html.parser')\n",
    "    \n",
    "    # Initialize an empty list to store the data\n",
    "    data = []\n",
    "    \n",
    "    # Find and extract product information\n",
    "    product_list = soup.find_all('div', {'class': '_1AtVbE'})\n",
    "    for product in product_list:\n",
    "        title_element = product.find('a', {'class': 'IRpwTa'})\n",
    "        price_element = product.find('div', {'class': '_30jeq3'})\n",
    "        rating_element = product.find('div', {'class': '_3LWZlK'})\n",
    "\n",
    "        # Check if the elements were found before accessing their text\n",
    "        if title_element and price_element and rating_element:\n",
    "            title = title_element.text\n",
    "            price = price_element.text\n",
    "            rating = rating_element.text\n",
    "\n",
    "            data.append([title, price, rating])\n",
    "\n",
    "    # Define the CSV file name\n",
    "    csv_filename = 'flipkart_phone_data.csv'\n",
    "\n",
    "    # Write the data to a CSV file\n",
    "    with open(csv_filename, mode='w', newline='') as file:\n",
    "        writer = csv.writer(file)\n",
    "        writer.writerow(['Title', 'Price', 'Rating'])  # Write header\n",
    "        writer.writerows(data)  # Write product data\n",
    "\n",
    "    print(f'Data has been scraped and saved to {csv_filename}')\n",
    "else:\n",
    "    print('Failed to retrieve data. Check the URL and your internet connection.')\n"
   ]
  },
  {
   "cell_type": "code",
   "execution_count": null,
   "id": "5adac9c2",
   "metadata": {},
   "outputs": [],
   "source": []
  }
 ],
 "metadata": {
  "kernelspec": {
   "display_name": "Python 3 (ipykernel)",
   "language": "python",
   "name": "python3"
  },
  "language_info": {
   "codemirror_mode": {
    "name": "ipython",
    "version": 3
   },
   "file_extension": ".py",
   "mimetype": "text/x-python",
   "name": "python",
   "nbconvert_exporter": "python",
   "pygments_lexer": "ipython3",
   "version": "3.10.9"
  }
 },
 "nbformat": 4,
 "nbformat_minor": 5
}
